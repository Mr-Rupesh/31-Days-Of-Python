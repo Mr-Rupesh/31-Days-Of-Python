{
 "cells": [
  {
   "cell_type": "code",
   "execution_count": 17,
   "id": "9c6953dc-01da-452c-b601-a72ceeb9cff9",
   "metadata": {},
   "outputs": [
    {
     "name": "stdin",
     "output_type": "stream",
     "text": [
      "Enter Project Marks : 76\n",
      "Enter Midsem Marks : 89\n",
      "Enter Endsem Marks : 88\n"
     ]
    },
    {
     "name": "stdout",
     "output_type": "stream",
     "text": [
      "GRADE ==> A\n"
     ]
    },
    {
     "name": "stdin",
     "output_type": "stream",
     "text": [
      "If want to check again type 1 else  0 for exit : 0\n"
     ]
    }
   ],
   "source": [
    "i = 1\n",
    "while(i == 1):\n",
    "    \n",
    "    proj = int(input(\"Enter Project Marks :\"))\n",
    "    midsem = int(input(\"Enter Midsem Marks :\"))\n",
    "    endsem = int (input(\"Enter Endsem Marks :\"))\n",
    "    total = 0.00\n",
    "    grade = ''\n",
    "    \n",
    "\n",
    "    total = (proj*0.20) + (midsem*0.30) + (endsem*0.50)\n",
    "    if total < 0 or total > 100:\n",
    "        print(\"invalide marks. enter only percentages.. \")\n",
    "    else :\n",
    "        if total >= 80 :\n",
    "            grade = 'A'\n",
    "        elif total < 80 and total >= 75:\n",
    "            grade = 'B'\n",
    "        elif total < 75 and total >= 65:\n",
    "            grade = 'C'\n",
    "        else:\n",
    "            grade = 'D'\n",
    "    print(\"GRADE ==> \"+ grade )\n",
    "    i = int(input(\"If want to check again type 1 else  0 for exit :\") )\n",
    "        "
   ]
  },
  {
   "cell_type": "code",
   "execution_count": null,
   "id": "437383da-a6de-463c-9f20-26ddbbeffcdb",
   "metadata": {},
   "outputs": [],
   "source": []
  }
 ],
 "metadata": {
  "kernelspec": {
   "display_name": "Python 3 (ipykernel)",
   "language": "python",
   "name": "python3"
  },
  "language_info": {
   "codemirror_mode": {
    "name": "ipython",
    "version": 3
   },
   "file_extension": ".py",
   "mimetype": "text/x-python",
   "name": "python",
   "nbconvert_exporter": "python",
   "pygments_lexer": "ipython3",
   "version": "3.12.7"
  }
 },
 "nbformat": 4,
 "nbformat_minor": 5
}

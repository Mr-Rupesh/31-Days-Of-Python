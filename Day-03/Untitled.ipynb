{
 "cells": [
  {
   "cell_type": "code",
   "execution_count": 1,
   "id": "6bda658f-da03-4c65-a40c-eac442946a26",
   "metadata": {},
   "outputs": [
    {
     "name": "stdout",
     "output_type": "stream",
     "text": [
      "[10, 23, 43, 25, 11, 46]\n"
     ]
    }
   ],
   "source": [
    "my_list  = [10, 23, 43, 25, 11, 46]\n",
    "print(my_list)"
   ]
  },
  {
   "cell_type": "code",
   "execution_count": 10,
   "id": "c949ae5a-0c29-4cb9-b9db-0b6ce5ad1621",
   "metadata": {},
   "outputs": [
    {
     "name": "stdout",
     "output_type": "stream",
     "text": [
      "7\n"
     ]
    }
   ],
   "source": [
    "my_list.append(83)\n",
    "my_list.append([73, 57, 39])\n",
    "print(len(my_list))"
   ]
  },
  {
   "cell_type": "code",
   "execution_count": 4,
   "id": "f5ca158b-9313-41eb-bdfa-6990c2667932",
   "metadata": {},
   "outputs": [
    {
     "data": {
      "text/plain": [
       "[73, 57, 39]"
      ]
     },
     "execution_count": 4,
     "metadata": {},
     "output_type": "execute_result"
    }
   ],
   "source": [
    "my_list.remove(83)\n",
    "my_list.pop()"
   ]
  },
  {
   "cell_type": "code",
   "execution_count": 6,
   "id": "6b1bd1ee-9ebf-4bbc-95c6-e6a50386d057",
   "metadata": {},
   "outputs": [
    {
     "name": "stdout",
     "output_type": "stream",
     "text": [
      "[10, 9, 23, 43, 25, 11, 46, [73, 57, 39], 83]\n",
      "[10, 9, 23, 43, 25, 11, 46, [73, 57, 39], 83, 9]\n"
     ]
    }
   ],
   "source": [
    "print(my_list)\n",
    "my_list.insert(1,9)\n",
    "print(my_list)"
   ]
  },
  {
   "cell_type": "code",
   "execution_count": 11,
   "id": "480d8423-3c21-42b2-b390-80ff045648f6",
   "metadata": {},
   "outputs": [
    {
     "name": "stdout",
     "output_type": "stream",
     "text": [
      "[9, 10, 11, 23, 25]\n"
     ]
    }
   ],
   "source": [
    "my_list.pop()\n",
    "my_list.pop()\n",
    "\n",
    "my_list.sort()\n",
    "print(my_list)"
   ]
  },
  {
   "cell_type": "code",
   "execution_count": 9,
   "id": "c4b324b8-256e-4485-a39c-b40530ce0b3c",
   "metadata": {},
   "outputs": [
    {
     "name": "stdout",
     "output_type": "stream",
     "text": [
      "23 is in list at index :  3\n"
     ]
    }
   ],
   "source": [
    "if 23 in my_list:\n",
    "    print(\"23 is in list at index : \", my_list.index(23))\n",
    "\n",
    "else:\n",
    "    print(\"23 is not in the list\")"
   ]
  },
  {
   "cell_type": "code",
   "execution_count": 12,
   "id": "08d67430-e165-449b-b041-dcb7bd38957e",
   "metadata": {},
   "outputs": [
    {
     "name": "stdout",
     "output_type": "stream",
     "text": [
      "sequares :  [81, 100, 121, 529, 625]\n"
     ]
    }
   ],
   "source": [
    "sequare = [x**2 for x in my_list]\n",
    "print(\"sequares : \", sequare)"
   ]
  },
  {
   "cell_type": "code",
   "execution_count": null,
   "id": "9bd57f77-fd89-47ea-82bc-88b96fbefd2f",
   "metadata": {},
   "outputs": [],
   "source": []
  }
 ],
 "metadata": {
  "kernelspec": {
   "display_name": "Python 3 (ipykernel)",
   "language": "python",
   "name": "python3"
  },
  "language_info": {
   "codemirror_mode": {
    "name": "ipython",
    "version": 3
   },
   "file_extension": ".py",
   "mimetype": "text/x-python",
   "name": "python",
   "nbconvert_exporter": "python",
   "pygments_lexer": "ipython3",
   "version": "3.12.7"
  }
 },
 "nbformat": 4,
 "nbformat_minor": 5
}

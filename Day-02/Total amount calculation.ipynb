{
 "cells": [
  {
   "cell_type": "code",
   "execution_count": 13,
   "id": "42fb9960-2dac-4d0c-9557-8ce5fd2c42af",
   "metadata": {},
   "outputs": [
    {
     "name": "stdin",
     "output_type": "stream",
     "text": [
      "Enter initial Amount :  20000\n",
      "Enter Interest rate :  12\n",
      "Enter number of  year 5\n"
     ]
    },
    {
     "name": "stdout",
     "output_type": "stream",
     "text": [
      "\tYear\t\tTotal amount\n",
      "----------------------------\n",
      "\t 1 \t\t 22400.000000000004\n",
      "\t 2 \t\t 25088.000000000007\n",
      "\t 3 \t\t 28098.560000000012\n",
      "\t 4 \t\t 31470.387200000016\n",
      "\t 5 \t\t 35246.83366400002\n"
     ]
    }
   ],
   "source": [
    "initamount = float(input(\"Enter initial Amount : \"))\n",
    "roi = float(input(\"Enter Interest rate : \"))\n",
    "n = int(input(\"Enter number of  year\"))\n",
    "\n",
    "futAmount = initamount\n",
    "print(\"\\tYear\\t\\tTotal amount\")\n",
    "print(\"----------------------------\")\n",
    "for i in range(1,n+1):\n",
    "    futAmount = futAmount * (1 + roi/100.0)\n",
    "    print(\"\\t\",i,\"\\t\\t\",futAmount)\n",
    "\n"
   ]
  },
  {
   "cell_type": "code",
   "execution_count": null,
   "id": "b448bc0e-c9db-4e06-911f-f64b682edf72",
   "metadata": {},
   "outputs": [],
   "source": []
  }
 ],
 "metadata": {
  "kernelspec": {
   "display_name": "Python 3 (ipykernel)",
   "language": "python",
   "name": "python3"
  },
  "language_info": {
   "codemirror_mode": {
    "name": "ipython",
    "version": 3
   },
   "file_extension": ".py",
   "mimetype": "text/x-python",
   "name": "python",
   "nbconvert_exporter": "python",
   "pygments_lexer": "ipython3",
   "version": "3.12.7"
  }
 },
 "nbformat": 4,
 "nbformat_minor": 5
}

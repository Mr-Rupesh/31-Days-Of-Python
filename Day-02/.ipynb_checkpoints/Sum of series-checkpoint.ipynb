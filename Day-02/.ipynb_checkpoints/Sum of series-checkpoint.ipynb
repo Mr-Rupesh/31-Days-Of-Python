{
 "cells": [
  {
   "cell_type": "code",
   "execution_count": null,
   "id": "56756cce-c37f-4a83-94bf-d880cad404e4",
   "metadata": {},
   "outputs": [
    {
     "name": "stdin",
     "output_type": "stream",
     "text": [
      "Enter number 5\n"
     ]
    },
    {
     "name": "stdout",
     "output_type": "stream",
     "text": [
      "SUM ==>  701.0\n"
     ]
    },
    {
     "name": "stdin",
     "output_type": "stream",
     "text": [
      "Enter number 2\n"
     ]
    },
    {
     "name": "stdout",
     "output_type": "stream",
     "text": [
      "SUM ==>  3.0\n"
     ]
    },
    {
     "name": "stdin",
     "output_type": "stream",
     "text": [
      "Enter number 8\n"
     ]
    },
    {
     "name": "stdout",
     "output_type": "stream",
     "text": [
      "SUM ==>  2223278.0\n"
     ]
    },
    {
     "name": "stdin",
     "output_type": "stream",
     "text": [
      "Enter number 87\n"
     ]
    },
    {
     "name": "stdout",
     "output_type": "stream",
     "text": [
      "SUM ==>  6.317254432803727e+166\n"
     ]
    },
    {
     "name": "stdin",
     "output_type": "stream",
     "text": [
      "Enter number 100\n"
     ]
    },
    {
     "name": "stdout",
     "output_type": "stream",
     "text": [
      "SUM ==>  1.0037487873214491e+198\n"
     ]
    },
    {
     "name": "stdin",
     "output_type": "stream",
     "text": [
      "Enter number 9\n"
     ]
    },
    {
     "name": "stdout",
     "output_type": "stream",
     "text": [
      "SUM ==>  45269999.0\n"
     ]
    },
    {
     "name": "stdin",
     "output_type": "stream",
     "text": [
      "Enter number 10\n"
     ]
    },
    {
     "name": "stdout",
     "output_type": "stream",
     "text": [
      "SUM ==>  1045269999.0\n"
     ]
    }
   ],
   "source": [
    "# while(exit):\n",
    "    n = int(input(\"Enter number\"))\n",
    "    result = 0.00\n",
    "    ite = 0.00\n",
    "    \n",
    "    for i in range(1,n+1):\n",
    "        ite = (i**i)/i\n",
    "        result += ite\n",
    "    print(\"SUM ==> \", result)"
   ]
  },
  {
   "cell_type": "code",
   "execution_count": null,
   "id": "9c58a684-2fb2-4fe0-a93d-0f9a1cd831a8",
   "metadata": {},
   "outputs": [],
   "source": []
  }
 ],
 "metadata": {
  "kernelspec": {
   "display_name": "Python 3 (ipykernel)",
   "language": "python",
   "name": "python3"
  },
  "language_info": {
   "codemirror_mode": {
    "name": "ipython",
    "version": 3
   },
   "file_extension": ".py",
   "mimetype": "text/x-python",
   "name": "python",
   "nbconvert_exporter": "python",
   "pygments_lexer": "ipython3",
   "version": "3.12.7"
  }
 },
 "nbformat": 4,
 "nbformat_minor": 5
}
